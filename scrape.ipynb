{
 "cells": [
  {
   "cell_type": "code",
   "execution_count": 1,
   "metadata": {},
   "outputs": [
    {
     "data": {
      "text/plain": [
       "'3.8.5'"
      ]
     },
     "execution_count": 1,
     "metadata": {},
     "output_type": "execute_result"
    }
   ],
   "source": [
    "# Settings for notebook\n",
    "from IPython.core.interactiveshell import InteractiveShell\n",
    "InteractiveShell.ast_node_interactivity = \"all\"\n",
    "# Show Python version\n",
    "import platform\n",
    "platform.python_version()"
   ]
  },
  {
   "cell_type": "code",
   "execution_count": 2,
   "metadata": {},
   "outputs": [],
   "source": [
    "import logging\n",
    "import re\n",
    "import scrapy\n",
    "from scrapy import Selector\n",
    "from scrapy.crawler import CrawlerProcess"
   ]
  },
  {
   "cell_type": "code",
   "execution_count": 3,
   "metadata": {},
   "outputs": [],
   "source": [
    "class FLSpider(scrapy.Spider):\n",
    "    name = 'FL'\n",
    "    start_urls = [\n",
    "        'https://forgottenlanguages-full.forgottenlanguages.org/',\n",
    "    ]\n",
    "    custom_settings = {\n",
    "        'DOWNLOADER_MIDDLEWARES': {\n",
    "            'scrapy.downloadermiddlewares.httpcache.HttpCacheMiddleware': 900,\n",
    "        },\n",
    "        'DOWNLOAD_DELAY': 0.25,\n",
    "        'HTTPCACHE_ENABLED': True,\n",
    "        'HTTPCACHE_DIR': 'httpcache',\n",
    "        'LOG_LEVEL': logging.INFO,\n",
    "        'FEEDS': {\n",
    "            'refs.json': {\n",
    "                'format': 'json',\n",
    "                'encoding': 'utf8',\n",
    "                'store_empty': False,\n",
    "            }\n",
    "        }\n",
    "    }\n",
    "    \n",
    "    _sel_refs = '(.//div[@class=\"post-body entry-content\"]//img)[last()]/../following-sibling::p'\n",
    "    \n",
    "    def parse(self, response):\n",
    "        url = response.selector.xpath('.//h3[@class=\"post-title entry-title\"]/a/@href').get()\n",
    "        title = response.selector.xpath('.//h3[@class=\"post-title entry-title\"]/a/text()').get().strip()\n",
    "        refs = response.selector.xpath(self._sel_refs).getall()\n",
    "        hrefs = response.selector.xpath(\n",
    "            './/div[@class=\"post-body entry-content\"]//img[last()]/../following-sibling::p/a/@href').getall()\n",
    "        \n",
    "        clean_refs = [re.sub('<[^<]+?>', '', ref).strip() for ref in refs]\n",
    "        clean_refs = [ref for ref in clean_refs if ref]\n",
    "        \n",
    "        yield {\n",
    "            'url': url,\n",
    "            'title': title,\n",
    "            'refs': clean_refs,\n",
    "            'hrefs': hrefs\n",
    "        }\n",
    "        # get next page\n",
    "        next_page_url = response.selector.xpath('.//a[@class=\"blog-pager-older-link\"]/@href').get()\n",
    "        if next_page_url:\n",
    "            yield response.follow(next_page_url, self.parse)"
   ]
  },
  {
   "cell_type": "code",
   "execution_count": null,
   "metadata": {},
   "outputs": [
    {
     "name": "stderr",
     "output_type": "stream",
     "text": [
      "2021-02-12 02:40:16 [scrapy.utils.log] INFO: Scrapy 2.4.1 started (bot: scrapybot)\n",
      "2021-02-12 02:40:16 [scrapy.utils.log] INFO: Versions: lxml 4.6.1.0, libxml2 2.9.10, cssselect 1.1.0, parsel 1.6.0, w3lib 1.22.0, Twisted 20.3.0, Python 3.8.5 (default, Sep  4 2020, 02:22:02) - [Clang 10.0.0 ], pyOpenSSL 19.1.0 (OpenSSL 1.1.1h  22 Sep 2020), cryptography 3.1.1, Platform macOS-10.15.5-x86_64-i386-64bit\n",
      "2021-02-12 02:40:16 [scrapy.utils.log] DEBUG: Using reactor: twisted.internet.selectreactor.SelectReactor\n",
      "2021-02-12 02:40:16 [scrapy.crawler] INFO: Overridden settings:\n",
      "{'DOWNLOAD_DELAY': 0.25, 'HTTPCACHE_ENABLED': True, 'LOG_LEVEL': 20}\n",
      "2021-02-12 02:40:16 [scrapy.extensions.telnet] INFO: Telnet Password: ada05cee6c1c0b84\n",
      "2021-02-12 02:40:16 [scrapy.middleware] INFO: Enabled extensions:\n",
      "['scrapy.extensions.corestats.CoreStats',\n",
      " 'scrapy.extensions.telnet.TelnetConsole',\n",
      " 'scrapy.extensions.memusage.MemoryUsage',\n",
      " 'scrapy.extensions.feedexport.FeedExporter',\n",
      " 'scrapy.extensions.logstats.LogStats']\n",
      "2021-02-12 02:40:16 [scrapy.middleware] INFO: Enabled downloader middlewares:\n",
      "['scrapy.downloadermiddlewares.httpauth.HttpAuthMiddleware',\n",
      " 'scrapy.downloadermiddlewares.downloadtimeout.DownloadTimeoutMiddleware',\n",
      " 'scrapy.downloadermiddlewares.defaultheaders.DefaultHeadersMiddleware',\n",
      " 'scrapy.downloadermiddlewares.useragent.UserAgentMiddleware',\n",
      " 'scrapy.downloadermiddlewares.retry.RetryMiddleware',\n",
      " 'scrapy.downloadermiddlewares.redirect.MetaRefreshMiddleware',\n",
      " 'scrapy.downloadermiddlewares.httpcompression.HttpCompressionMiddleware',\n",
      " 'scrapy.downloadermiddlewares.redirect.RedirectMiddleware',\n",
      " 'scrapy.downloadermiddlewares.cookies.CookiesMiddleware',\n",
      " 'scrapy.downloadermiddlewares.httpproxy.HttpProxyMiddleware',\n",
      " 'scrapy.downloadermiddlewares.stats.DownloaderStats',\n",
      " 'scrapy.downloadermiddlewares.httpcache.HttpCacheMiddleware']\n",
      "2021-02-12 02:40:16 [scrapy.middleware] INFO: Enabled spider middlewares:\n",
      "['scrapy.spidermiddlewares.httperror.HttpErrorMiddleware',\n",
      " 'scrapy.spidermiddlewares.offsite.OffsiteMiddleware',\n",
      " 'scrapy.spidermiddlewares.referer.RefererMiddleware',\n",
      " 'scrapy.spidermiddlewares.urllength.UrlLengthMiddleware',\n",
      " 'scrapy.spidermiddlewares.depth.DepthMiddleware']\n",
      "2021-02-12 02:40:16 [scrapy.middleware] INFO: Enabled item pipelines:\n",
      "[]\n",
      "2021-02-12 02:40:16 [scrapy.core.engine] INFO: Spider opened\n",
      "2021-02-12 02:40:16 [scrapy.extensions.logstats] INFO: Crawled 0 pages (at 0 pages/min), scraped 0 items (at 0 items/min)\n",
      "2021-02-12 02:40:16 [scrapy.extensions.telnet] INFO: Telnet console listening on 127.0.0.1:6023\n"
     ]
    },
    {
     "data": {
      "text/plain": [
       "<Deferred at 0x7fa24744f670>"
      ]
     },
     "execution_count": 4,
     "metadata": {},
     "output_type": "execute_result"
    },
    {
     "name": "stderr",
     "output_type": "stream",
     "text": [
      "2021-02-12 02:41:16 [scrapy.extensions.logstats] INFO: Crawled 487 pages (at 487 pages/min), scraped 486 items (at 486 items/min)\n",
      "2021-02-12 02:42:16 [scrapy.extensions.logstats] INFO: Crawled 979 pages (at 492 pages/min), scraped 978 items (at 492 items/min)\n",
      "2021-02-12 02:43:16 [scrapy.extensions.logstats] INFO: Crawled 1505 pages (at 526 pages/min), scraped 1504 items (at 526 items/min)\n",
      "2021-02-12 02:44:16 [scrapy.extensions.logstats] INFO: Crawled 2024 pages (at 519 pages/min), scraped 2023 items (at 519 items/min)\n",
      "2021-02-12 02:45:16 [scrapy.extensions.logstats] INFO: Crawled 2545 pages (at 521 pages/min), scraped 2544 items (at 521 items/min)\n",
      "2021-02-12 02:46:16 [scrapy.extensions.logstats] INFO: Crawled 3059 pages (at 514 pages/min), scraped 3058 items (at 514 items/min)\n",
      "2021-02-12 02:47:16 [scrapy.extensions.logstats] INFO: Crawled 3576 pages (at 517 pages/min), scraped 3575 items (at 517 items/min)\n",
      "2021-02-12 02:48:16 [scrapy.extensions.logstats] INFO: Crawled 4090 pages (at 514 pages/min), scraped 4089 items (at 514 items/min)\n"
     ]
    }
   ],
   "source": [
    "process = CrawlerProcess()\n",
    "process.crawl(FLSpider)\n",
    "process.start()"
   ]
  },
  {
   "cell_type": "code",
   "execution_count": null,
   "metadata": {},
   "outputs": [],
   "source": []
  }
 ],
 "metadata": {
  "kernelspec": {
   "display_name": "Python 3",
   "language": "python",
   "name": "python3"
  },
  "language_info": {
   "codemirror_mode": {
    "name": "ipython",
    "version": 3
   },
   "file_extension": ".py",
   "mimetype": "text/x-python",
   "name": "python",
   "nbconvert_exporter": "python",
   "pygments_lexer": "ipython3",
   "version": "3.8.5"
  }
 },
 "nbformat": 4,
 "nbformat_minor": 4
}
