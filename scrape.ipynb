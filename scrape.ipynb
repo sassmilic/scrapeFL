{
 "cells": [
  {
   "cell_type": "code",
   "execution_count": 1,
   "metadata": {},
   "outputs": [
    {
     "data": {
      "text/plain": [
       "'3.8.5'"
      ]
     },
     "execution_count": 1,
     "metadata": {},
     "output_type": "execute_result"
    }
   ],
   "source": [
    "# Settings for notebook\n",
    "from IPython.core.interactiveshell import InteractiveShell\n",
    "InteractiveShell.ast_node_interactivity = \"all\"\n",
    "# Show Python version\n",
    "import platform\n",
    "platform.python_version()"
   ]
  },
  {
   "cell_type": "code",
   "execution_count": 2,
   "metadata": {},
   "outputs": [],
   "source": [
    "import logging\n",
    "import re\n",
    "import scrapy\n",
    "from scrapy import Selector\n",
    "from scrapy.crawler import CrawlerProcess"
   ]
  },
  {
   "cell_type": "code",
   "execution_count": 3,
   "metadata": {},
   "outputs": [],
   "source": [
    "class FLSpider(scrapy.Spider):\n",
    "    name = 'FL'\n",
    "    start_urls = [\n",
    "        'https://forgottenlanguages-full.forgottenlanguages.org/',\n",
    "    ]\n",
    "    custom_settings = {\n",
    "        'DOWNLOADER_MIDDLEWARES': {\n",
    "            'scrapy.downloadermiddlewares.httpcache.HttpCacheMiddleware': 900,\n",
    "        },\n",
    "        'DOWNLOAD_DELAY': 0.25,\n",
    "        'HTTPCACHE_ENABLED': True,\n",
    "        'HTTPCACHE_DIR': 'httpcache',\n",
    "        'LOG_LEVEL': logging.INFO,\n",
    "        'FEEDS': {\n",
    "            'refs.json': {\n",
    "                'format': 'json',\n",
    "                'encoding': 'utf8',\n",
    "                'store_empty': False,\n",
    "            }\n",
    "        }\n",
    "    }\n",
    "    \n",
    "    _sel = '(.//div[@class=\"post-body entry-content\"]//img)[last()]/../following-sibling::p'\n",
    "    \n",
    "    def parse(self, response):\n",
    "        url = response.selector.xpath('.//h3[@class=\"post-title entry-title\"]/a/@href').get()\n",
    "        title = response.selector.xpath('.//h3[@class=\"post-title entry-title\"]/a/text()').get().strip()\n",
    "        refs = response.selector.xpath(self._sel).getall()\n",
    "        clean_refs = [re.sub('<[^<]+?>', '', ref).strip() for ref in refs]\n",
    "        clean_refs = [ref for ref in clean_refs if ref]\n",
    "        yield {\n",
    "            'url': url,\n",
    "            'title': title,\n",
    "            'refs': clean_refs\n",
    "        }\n",
    "        # get next page\n",
    "        next_page_url = response.selector.xpath('.//a[@class=\"blog-pager-older-link\"]/@href').get()\n",
    "        yield response.follow(next_page_url, self.parse)"
   ]
  },
  {
   "cell_type": "code",
   "execution_count": null,
   "metadata": {},
   "outputs": [
    {
     "name": "stderr",
     "output_type": "stream",
     "text": [
      "2021-02-12 00:34:46 [scrapy.utils.log] INFO: Scrapy 2.4.1 started (bot: scrapybot)\n",
      "2021-02-12 00:34:46 [scrapy.utils.log] INFO: Versions: lxml 4.6.1.0, libxml2 2.9.10, cssselect 1.1.0, parsel 1.6.0, w3lib 1.22.0, Twisted 20.3.0, Python 3.8.5 (default, Sep  4 2020, 02:22:02) - [Clang 10.0.0 ], pyOpenSSL 19.1.0 (OpenSSL 1.1.1h  22 Sep 2020), cryptography 3.1.1, Platform macOS-10.15.5-x86_64-i386-64bit\n",
      "2021-02-12 00:34:46 [scrapy.utils.log] DEBUG: Using reactor: twisted.internet.selectreactor.SelectReactor\n",
      "2021-02-12 00:34:46 [scrapy.crawler] INFO: Overridden settings:\n",
      "{'DOWNLOAD_DELAY': 0.25, 'HTTPCACHE_ENABLED': True, 'LOG_LEVEL': 20}\n",
      "2021-02-12 00:34:46 [scrapy.extensions.telnet] INFO: Telnet Password: 524d6e0aae2f33f9\n",
      "2021-02-12 00:34:46 [scrapy.middleware] INFO: Enabled extensions:\n",
      "['scrapy.extensions.corestats.CoreStats',\n",
      " 'scrapy.extensions.telnet.TelnetConsole',\n",
      " 'scrapy.extensions.memusage.MemoryUsage',\n",
      " 'scrapy.extensions.feedexport.FeedExporter',\n",
      " 'scrapy.extensions.logstats.LogStats']\n",
      "2021-02-12 00:34:46 [scrapy.middleware] INFO: Enabled downloader middlewares:\n",
      "['scrapy.downloadermiddlewares.httpauth.HttpAuthMiddleware',\n",
      " 'scrapy.downloadermiddlewares.downloadtimeout.DownloadTimeoutMiddleware',\n",
      " 'scrapy.downloadermiddlewares.defaultheaders.DefaultHeadersMiddleware',\n",
      " 'scrapy.downloadermiddlewares.useragent.UserAgentMiddleware',\n",
      " 'scrapy.downloadermiddlewares.retry.RetryMiddleware',\n",
      " 'scrapy.downloadermiddlewares.redirect.MetaRefreshMiddleware',\n",
      " 'scrapy.downloadermiddlewares.httpcompression.HttpCompressionMiddleware',\n",
      " 'scrapy.downloadermiddlewares.redirect.RedirectMiddleware',\n",
      " 'scrapy.downloadermiddlewares.cookies.CookiesMiddleware',\n",
      " 'scrapy.downloadermiddlewares.httpproxy.HttpProxyMiddleware',\n",
      " 'scrapy.downloadermiddlewares.stats.DownloaderStats',\n",
      " 'scrapy.downloadermiddlewares.httpcache.HttpCacheMiddleware']\n",
      "2021-02-12 00:34:46 [scrapy.middleware] INFO: Enabled spider middlewares:\n",
      "['scrapy.spidermiddlewares.httperror.HttpErrorMiddleware',\n",
      " 'scrapy.spidermiddlewares.offsite.OffsiteMiddleware',\n",
      " 'scrapy.spidermiddlewares.referer.RefererMiddleware',\n",
      " 'scrapy.spidermiddlewares.urllength.UrlLengthMiddleware',\n",
      " 'scrapy.spidermiddlewares.depth.DepthMiddleware']\n",
      "2021-02-12 00:34:46 [scrapy.middleware] INFO: Enabled item pipelines:\n",
      "[]\n",
      "2021-02-12 00:34:46 [scrapy.core.engine] INFO: Spider opened\n",
      "2021-02-12 00:34:46 [scrapy.extensions.logstats] INFO: Crawled 0 pages (at 0 pages/min), scraped 0 items (at 0 items/min)\n",
      "2021-02-12 00:34:46 [scrapy.extensions.telnet] INFO: Telnet console listening on 127.0.0.1:6023\n"
     ]
    },
    {
     "data": {
      "text/plain": [
       "<Deferred at 0x7fb789c5a2e0>"
      ]
     },
     "execution_count": 4,
     "metadata": {},
     "output_type": "execute_result"
    },
    {
     "name": "stderr",
     "output_type": "stream",
     "text": [
      "2021-02-12 00:35:46 [scrapy.extensions.logstats] INFO: Crawled 47 pages (at 47 pages/min), scraped 46 items (at 46 items/min)\n",
      "2021-02-12 00:36:46 [scrapy.extensions.logstats] INFO: Crawled 93 pages (at 46 pages/min), scraped 93 items (at 47 items/min)\n",
      "2021-02-12 00:37:46 [scrapy.extensions.logstats] INFO: Crawled 149 pages (at 56 pages/min), scraped 149 items (at 56 items/min)\n",
      "2021-02-12 00:38:46 [scrapy.extensions.logstats] INFO: Crawled 204 pages (at 55 pages/min), scraped 204 items (at 55 items/min)\n",
      "2021-02-12 00:39:46 [scrapy.extensions.logstats] INFO: Crawled 261 pages (at 57 pages/min), scraped 261 items (at 57 items/min)\n",
      "2021-02-12 00:40:46 [scrapy.extensions.logstats] INFO: Crawled 310 pages (at 49 pages/min), scraped 310 items (at 49 items/min)\n",
      "2021-02-12 00:41:46 [scrapy.extensions.logstats] INFO: Crawled 356 pages (at 46 pages/min), scraped 356 items (at 46 items/min)\n",
      "2021-02-12 00:42:46 [scrapy.extensions.logstats] INFO: Crawled 411 pages (at 55 pages/min), scraped 411 items (at 55 items/min)\n",
      "2021-02-12 00:43:46 [scrapy.extensions.logstats] INFO: Crawled 468 pages (at 57 pages/min), scraped 468 items (at 57 items/min)\n"
     ]
    }
   ],
   "source": [
    "process = CrawlerProcess()\n",
    "process.crawl(FLSpider)\n",
    "process.start()"
   ]
  },
  {
   "cell_type": "code",
   "execution_count": null,
   "metadata": {},
   "outputs": [],
   "source": []
  }
 ],
 "metadata": {
  "kernelspec": {
   "display_name": "Python 3",
   "language": "python",
   "name": "python3"
  },
  "language_info": {
   "codemirror_mode": {
    "name": "ipython",
    "version": 3
   },
   "file_extension": ".py",
   "mimetype": "text/x-python",
   "name": "python",
   "nbconvert_exporter": "python",
   "pygments_lexer": "ipython3",
   "version": "3.8.5"
  }
 },
 "nbformat": 4,
 "nbformat_minor": 4
}
